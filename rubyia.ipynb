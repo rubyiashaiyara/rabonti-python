{
 "cells": [
  {
   "cell_type": "code",
   "execution_count": null,
   "id": "e16f81d6-a254-4db8-a1d8-0232426116e1",
   "metadata": {},
   "outputs": [],
   "source": [
    "#class-4\n",
    "a=10\n",
    "b=40\n",
    "sum=a+b\n",
    "print(sum)"
   ]
  },
  {
   "cell_type": "code",
   "execution_count": 3,
   "id": "70393108-0331-4bec-85a1-0606c6b7b3e9",
   "metadata": {},
   "outputs": [
    {
     "name": "stdin",
     "output_type": "stream",
     "text": [
      "6 5\n"
     ]
    }
   ],
   "source": [
    "a=int(input(6))\n"
   ]
  },
  {
   "cell_type": "code",
   "execution_count": 4,
   "id": "33fa3d5e-4d2e-42f2-bd54-44dcebc823e3",
   "metadata": {},
   "outputs": [
    {
     "name": "stdin",
     "output_type": "stream",
     "text": [
      "1st number is: 5\n",
      "2nd number is: 2\n"
     ]
    },
    {
     "name": "stdout",
     "output_type": "stream",
     "text": [
      "total number is: 7\n"
     ]
    }
   ],
   "source": [
    "a=int(input('1st number is:'))\n",
    "b=int(input('2nd number is:'))\n",
    "sum=a+b\n",
    "print('total number is:', (sum))"
   ]
  },
  {
   "cell_type": "code",
   "execution_count": 5,
   "id": "bbb3e870-e48d-49e0-915b-92665e772fe1",
   "metadata": {},
   "outputs": [
    {
     "name": "stdout",
     "output_type": "stream",
     "text": [
      "result is: 8\n"
     ]
    }
   ],
   "source": [
    "number=[0,1,2,3,4,5,6,7,8,9]\n",
    "print('result is:',number[3+5])"
   ]
  },
  {
   "cell_type": "code",
   "execution_count": 6,
   "id": "c2d986e0-ab9c-49d8-8077-2e8a0ab8d15c",
   "metadata": {},
   "outputs": [
    {
     "name": "stdin",
     "output_type": "stream",
     "text": [
      "1st number is: 4\n",
      "2nd number is: 5\n"
     ]
    },
    {
     "name": "stdout",
     "output_type": "stream",
     "text": [
      "b is greater than a\n"
     ]
    }
   ],
   "source": [
    "a=int(input('1st number is:'))\n",
    "b=int(input('2nd number is:'))\n",
    "if(a>b):\n",
    "    print(\"a is greater than b\")\n",
    "if(a<b):\n",
    "    print(\"b is greater than a\")"
   ]
  },
  {
   "cell_type": "code",
   "execution_count": 8,
   "id": "341e0511-2c5b-44f3-8acc-386544f27dde",
   "metadata": {},
   "outputs": [
    {
     "name": "stdin",
     "output_type": "stream",
     "text": [
      "1st number is: 6\n",
      "input operator: +\n",
      "2nd number is: 6\n"
     ]
    },
    {
     "name": "stdout",
     "output_type": "stream",
     "text": [
      "12\n"
     ]
    }
   ],
   "source": [
    "a=int(input('1st number is:'))\n",
    "operator=input('input operator:')\n",
    "b=int(input('2nd number is:'))\n",
    "\n",
    "if(operator=='+'):\n",
    " sum=a+b\n",
    " print(sum)\n",
    "    \n",
    "elif(operator==\"-\"):\n",
    " result=a-b\n",
    " print(result)\n",
    "    \n",
    "elif(operator==\"*\"):\n",
    " result=a*b\n",
    " print(result)\n",
    "    \n",
    "elif(operator==\"/\"):\n",
    " result=a/b\n",
    " print(result)"
   ]
  },
  {
   "cell_type": "code",
   "execution_count": 11,
   "id": "9ca1cfe0-0a55-40de-971b-757aef118f59",
   "metadata": {},
   "outputs": [
    {
     "name": "stdout",
     "output_type": "stream",
     "text": [
      "mini calculator + , - , * , / , %\n"
     ]
    },
    {
     "name": "stdin",
     "output_type": "stream",
     "text": [
      "input 1st number & Enter: 5\n",
      "input operator & Enter: +\n",
      "input 2nd number & Enter: 5\n"
     ]
    },
    {
     "name": "stdout",
     "output_type": "stream",
     "text": [
      "the result is: 10\n"
     ]
    }
   ],
   "source": [
    "#calculator\n",
    "print('mini calculator + , - , * , / , %')\n",
    "a=int(input('input 1st number & Enter:'))\n",
    "operator=input('input operator & Enter:')\n",
    "b=int(input('input 2nd number & Enter:'))\n",
    "if(operator=='+'):\n",
    " sum=a+b\n",
    " print('the result is:',sum)\n",
    "elif(operator==\"-\"):\n",
    " result=a-b\n",
    " print('the result is:',result)\n",
    "elif(operator==\"*\"):\n",
    " result=a*b\n",
    " print('the result is:',result)\n",
    "elif(operator==\"/\"):\n",
    " result=a/b\n",
    " print('the result is:',result)\n",
    "elif (operator==\"%\"):\n",
    "  result=a/b*100\n",
    "  print('The percentage is:',result)"
   ]
  },
  {
   "cell_type": "code",
   "execution_count": 12,
   "id": "06469cf8-dd0d-4dad-b233-4194176cedec",
   "metadata": {},
   "outputs": [
    {
     "name": "stdout",
     "output_type": "stream",
     "text": [
      "['talha', 'dhaka']\n"
     ]
    }
   ],
   "source": [
    "# STRING\n",
    "\n",
    "lst=[10,'talha','dhaka',20, True,'bangladesh',9.9]\n",
    "\n",
    "print(lst[1:3]) #LIST R 1 R (3-1) TM INDEX PRINT"
   ]
  },
  {
   "cell_type": "code",
   "execution_count": 13,
   "id": "f91af86d-51fc-4840-86c3-034b5c45a373",
   "metadata": {},
   "outputs": [
    {
     "name": "stdout",
     "output_type": "stream",
     "text": [
      "20\n"
     ]
    }
   ],
   "source": [
    "lst=[10,'talha','dhaka',20, True,'bangladesh',9.9]\n",
    "print(lst[3]) #3 NO INDEX TA PRINT"
   ]
  },
  {
   "cell_type": "code",
   "execution_count": 14,
   "id": "ea588191-5c2b-4830-a0e6-018af9b34dc3",
   "metadata": {},
   "outputs": [
    {
     "name": "stdout",
     "output_type": "stream",
     "text": [
      "5\n"
     ]
    }
   ],
   "source": [
    "lst=[30,35,'true',5]\n",
    "print(lst[3])"
   ]
  },
  {
   "cell_type": "code",
   "execution_count": 15,
   "id": "8780cd42-6d58-42a4-8f3c-52f2133c521e",
   "metadata": {},
   "outputs": [
    {
     "name": "stdout",
     "output_type": "stream",
     "text": [
      "5\n"
     ]
    }
   ],
   "source": [
    "#9 DECEMBER 2024 (5TH CLASS) \n",
    "lst=[30,35,'true',5]\n",
    "print(lst[-1])# - MANA RIGHT SIDE THAKA 1 NO VALUE ULTA PAS THAKA INDEX R VALUE"
   ]
  },
  {
   "cell_type": "code",
   "execution_count": 16,
   "id": "c7ec7ced-5246-402d-bad1-7f6c0c6d2990",
   "metadata": {},
   "outputs": [
    {
     "name": "stdout",
     "output_type": "stream",
     "text": [
      "['a', 'b', 'c', 'x', 'y', 'f', 'g']\n"
     ]
    }
   ],
   "source": [
    "lst1=['a','b','c','d','e','f','g']\n",
    "lst2=['x','y']\n",
    "lst1[3:5]=lst2 # LIST R 3 NO INDEX R (5-1)TM INDEX \n",
    "print(lst1)"
   ]
  },
  {
   "cell_type": "code",
   "execution_count": 17,
   "id": "4a22dbc1-6c7a-44c3-9897-649d5a560dd4",
   "metadata": {},
   "outputs": [
    {
     "name": "stdout",
     "output_type": "stream",
     "text": [
      "['a', 'b', 'c', 'd', 'x', 'y', 'z', 'g']\n"
     ]
    }
   ],
   "source": [
    "lst1=['a','b','c','d','e','f','g']\n",
    "lst2=['x','y','z']\n",
    "lst1[4:6]=lst2\n",
    "print(lst1)"
   ]
  },
  {
   "cell_type": "code",
   "execution_count": 18,
   "id": "727f2973-ccc3-4b40-8bf2-f4224a517f62",
   "metadata": {},
   "outputs": [
    {
     "name": "stdout",
     "output_type": "stream",
     "text": [
      "['a', 'b', 'c', 'd', 'x', 'y', 'z', '1', '2', '3', '4', '5', '6', '7', '8', '7', 'l', 'k', 'h']\n"
     ]
    }
   ],
   "source": [
    "lst1=['a','b','c','d','e','f','g','9','8','7','l','k','h']\n",
    "lst2=['x','y','z','1','2','3','4','5','6','7']\n",
    "lst1[4:8]=lst2\n",
    "print(lst1)"
   ]
  },
  {
   "cell_type": "code",
   "execution_count": 19,
   "id": "a53bcd2e-edb7-44d2-8fa4-8614476caaf6",
   "metadata": {},
   "outputs": [
    {
     "name": "stdout",
     "output_type": "stream",
     "text": [
      "['a', 'b', 'c', 'd', ['x', 'y', 'z'], ['rakib', 'joy', 'sanjid', 'sadman'], 'g']\n",
      "['x', ['a', 'b', 'c', 'd', [...], ['rakib', 'joy', 'sanjid', 'sadman'], 'g'], 'z']\n"
     ]
    }
   ],
   "source": [
    "lst1=['a','b','c','d','e','f','g']\n",
    "lst2=['x','y','z']\n",
    "lst3=['rakib','joy','sanjid','sadman']\n",
    "\n",
    "lst1[4:6]=lst2,lst3 #LIST 1 R 4 TM INDEX A LIST 2 R LIST 3 R SOB VALUE INSERT HBA\n",
    "print(lst1)\n",
    "\n",
    "lst2[-2]=lst1\n",
    "print(lst2)"
   ]
  },
  {
   "cell_type": "code",
   "execution_count": 20,
   "id": "48c713d1-6275-46de-8ac4-b9a53c6d6b16",
   "metadata": {},
   "outputs": [
    {
     "name": "stdout",
     "output_type": "stream",
     "text": [
      "['a', 'b', 'c', 'd', 'g']\n"
     ]
    }
   ],
   "source": [
    "lst1=['a','b','c','d']\n",
    "lst1.append('g') #last a value add krar jonno\n",
    "print(lst1)"
   ]
  },
  {
   "cell_type": "code",
   "execution_count": 21,
   "id": "9be9b723-7f60-4223-82a2-fa5b0ae77697",
   "metadata": {},
   "outputs": [
    {
     "name": "stdout",
     "output_type": "stream",
     "text": [
      "['a', 'x', 'b', 'c', 'd']\n"
     ]
    }
   ],
   "source": [
    "lst1=['a','b','c','d']\n",
    "lst1.insert(1,'x') #fixed index a value add krar jonno\n",
    "print(lst1)"
   ]
  },
  {
   "cell_type": "code",
   "execution_count": 22,
   "id": "be257d3b-7002-4369-a103-8e7ec3f62dee",
   "metadata": {},
   "outputs": [
    {
     "name": "stdout",
     "output_type": "stream",
     "text": [
      "[10, 20, 30, 40, 50, 60, 70]\n"
     ]
    }
   ],
   "source": [
    "lst1=[10,20,30,40]\n",
    "lst2=[50,60,70]\n",
    "lst1.extend(lst2) #2 ta list k ak satha add korar jonno\n",
    "print(lst1)"
   ]
  },
  {
   "cell_type": "code",
   "execution_count": 23,
   "id": "9a76d0a0-bfba-42e6-bfbf-5a8735c0533f",
   "metadata": {},
   "outputs": [
    {
     "name": "stdout",
     "output_type": "stream",
     "text": [
      "[10, 20, 40]\n"
     ]
    }
   ],
   "source": [
    "lst1=[10,20,30,40]\n",
    "lst1.remove(30) #fixed value k remove krar jonno\n",
    "print(lst1)"
   ]
  },
  {
   "cell_type": "code",
   "execution_count": 24,
   "id": "570452b3-563a-401e-b278-49f4620e849d",
   "metadata": {},
   "outputs": [
    {
     "name": "stdout",
     "output_type": "stream",
     "text": [
      "[10, 30, 40]\n"
     ]
    }
   ],
   "source": [
    "lst1=[10,20,30,40]\n",
    "lst1.pop(1) #index suhu remove krar jonno\n",
    "print(lst1)"
   ]
  },
  {
   "cell_type": "code",
   "execution_count": 25,
   "id": "a997f5e0-b722-4488-858a-0515a6f53459",
   "metadata": {},
   "outputs": [
    {
     "name": "stdout",
     "output_type": "stream",
     "text": [
      "[]\n"
     ]
    }
   ],
   "source": [
    "lst1=[10,20,30,40]\n",
    "lst1.clear() # full list cl\n",
    "print(lst1)"
   ]
  },
  {
   "cell_type": "code",
   "execution_count": 26,
   "id": "ededcd64-601e-4d84-9528-95659e5300ec",
   "metadata": {},
   "outputs": [
    {
     "name": "stdout",
     "output_type": "stream",
     "text": [
      "20\n"
     ]
    }
   ],
   "source": [
    "tup=(10,20,30,40)\n",
    "print(tup[1])"
   ]
  },
  {
   "cell_type": "code",
   "execution_count": 27,
   "id": "55b36e87-6753-422e-a85d-cdb74b5bb6dd",
   "metadata": {},
   "outputs": [
    {
     "name": "stdout",
     "output_type": "stream",
     "text": [
      "80\n"
     ]
    }
   ],
   "source": [
    "tup=(10,20,30,40,50,60,70,80,90,100)\n",
    "print(tup[1+6])"
   ]
  },
  {
   "cell_type": "code",
   "execution_count": 28,
   "id": "c28be9b0-a149-405e-b6cf-39691ce4abb0",
   "metadata": {},
   "outputs": [
    {
     "name": "stdout",
     "output_type": "stream",
     "text": [
      "saahil\n"
     ]
    }
   ],
   "source": [
    "dict={'name':'saahil','age':16,'school':'milestone'}\n",
    "print(dict['name'])"
   ]
  },
  {
   "cell_type": "code",
   "execution_count": 29,
   "id": "87ea3e2f-a4b0-48d1-b872-6155c101e2d4",
   "metadata": {},
   "outputs": [
    {
     "name": "stdout",
     "output_type": "stream",
     "text": [
      "10\n",
      "20\n",
      "30\n",
      "40\n"
     ]
    }
   ],
   "source": [
    "list=[10,20,30,40]\n",
    "for num in list:\n",
    "    print(num)"
   ]
  },
  {
   "cell_type": "code",
   "execution_count": 30,
   "id": "aa6a088a-cb7c-4b8b-88c8-42e26db3c876",
   "metadata": {},
   "outputs": [
    {
     "name": "stdout",
     "output_type": "stream",
     "text": [
      "10 20 30 40 "
     ]
    }
   ],
   "source": [
    "list=[10,20,30,40]\n",
    "for num in list:\n",
    "    print(num,end=' ') #pasapasi print krar jonno"
   ]
  },
  {
   "cell_type": "code",
   "execution_count": 31,
   "id": "9d37499d-9449-4daf-a1fb-c8d08cafbfae",
   "metadata": {},
   "outputs": [
    {
     "name": "stdin",
     "output_type": "stream",
     "text": [
      " 3\n",
      " 4\n"
     ]
    },
    {
     "name": "stdout",
     "output_type": "stream",
     "text": [
      "7\n"
     ]
    }
   ],
   "source": [
    "#6th class 10december 2024\n",
    "def sum(a,b):\n",
    "    c=a+b\n",
    "    print(c)\n",
    "\n",
    "x=input()\n",
    "y=input()\n",
    "a=int(x)\n",
    "b=int(y)\n",
    "\n",
    "sum(a,b)"
   ]
  },
  {
   "cell_type": "code",
   "execution_count": 32,
   "id": "56515627-b45d-4257-b207-83a0a65f7533",
   "metadata": {},
   "outputs": [
    {
     "name": "stdin",
     "output_type": "stream",
     "text": [
      "rubyia 4\n",
      "Shaiyara 5\n"
     ]
    },
    {
     "ename": "TypeError",
     "evalue": "list indices must be integers or slices, not str",
     "output_type": "error",
     "traceback": [
      "\u001b[1;31m---------------------------------------------------------------------------\u001b[0m",
      "\u001b[1;31mTypeError\u001b[0m                                 Traceback (most recent call last)",
      "Cell \u001b[1;32mIn[32], line 7\u001b[0m\n\u001b[0;32m      5\u001b[0m x\u001b[38;5;241m=\u001b[39m\u001b[38;5;28minput\u001b[39m(\u001b[38;5;124m'\u001b[39m\u001b[38;5;124mrubyia\u001b[39m\u001b[38;5;124m'\u001b[39m)\n\u001b[0;32m      6\u001b[0m y\u001b[38;5;241m=\u001b[39m\u001b[38;5;28minput\u001b[39m(\u001b[38;5;124m'\u001b[39m\u001b[38;5;124mShaiyara\u001b[39m\u001b[38;5;124m'\u001b[39m)\n\u001b[1;32m----> 7\u001b[0m a\u001b[38;5;241m=\u001b[39m\u001b[38;5;28mlist\u001b[39m[x]\n\u001b[0;32m      8\u001b[0m b\u001b[38;5;241m=\u001b[39m\u001b[38;5;28mlist\u001b[39m[y]\n\u001b[0;32m      9\u001b[0m r(x,y)\n",
      "\u001b[1;31mTypeError\u001b[0m: list indices must be integers or slices, not str"
     ]
    }
   ],
   "source": [
    "#raf\n",
    "def r(x,y):\n",
    "    print(r)\n",
    "\n",
    "x=input('rubyia')\n",
    "y=input('Shaiyara')\n",
    "a=list[x]\n",
    "b=list[y]\n",
    "r(x,y)"
   ]
  },
  {
   "cell_type": "code",
   "execution_count": 33,
   "id": "36a95a96-37ed-4868-82df-df6d5ec03875",
   "metadata": {},
   "outputs": [
    {
     "name": "stdin",
     "output_type": "stream",
     "text": [
      "print 1st num is: 5\n",
      "print 2nd num is: 4\n"
     ]
    },
    {
     "name": "stdout",
     "output_type": "stream",
     "text": [
      "x is big\n"
     ]
    }
   ],
   "source": [
    "a=(input('print 1st num is:'))\n",
    "b=(input('print 2nd num is:'))\n",
    "m=int(a)\n",
    "n=int(b)\n",
    "if(a>b): #must need colon(:) after every condition\n",
    "    print('x is big')\n",
    "else:\n",
    "    print('y is big')"
   ]
  },
  {
   "cell_type": "code",
   "execution_count": 34,
   "id": "a89540e3-c416-44f0-8c04-12c4951db481",
   "metadata": {},
   "outputs": [
    {
     "name": "stdin",
     "output_type": "stream",
     "text": [
      "print 1st num: 2\n",
      "print 2nd num: 2\n",
      "give any operator /\n"
     ]
    },
    {
     "name": "stdout",
     "output_type": "stream",
     "text": [
      "1.0\n"
     ]
    }
   ],
   "source": [
    "a=(input('print 1st num:'))\n",
    "b=(input('print 2nd num:'))\n",
    "operator=input('give any operator')\n",
    "m=int(a)\n",
    "n=int(b)\n",
    "if(operator=='+'):\n",
    "    print(m+n)\n",
    "elif(operator=='-'):\n",
    "    print(m-n)\n",
    "elif(operator=='*'):\n",
    "    print(m*n)\n",
    "elif(operator=='/'):\n",
    "    print(m/n)"
   ]
  },
  {
   "cell_type": "code",
   "execution_count": 36,
   "id": "c76d08a4-1252-44e6-9b14-b3785b5bc40c",
   "metadata": {},
   "outputs": [
    {
     "name": "stdin",
     "output_type": "stream",
     "text": [
      "print 1st num is: 5\n",
      "print 2nd num is: 9\n"
     ]
    },
    {
     "name": "stdout",
     "output_type": "stream",
     "text": [
      "5\n",
      "6\n",
      "7\n",
      "8\n"
     ]
    }
   ],
   "source": [
    "a=int(input('print 1st num is:'))\n",
    "b=int(input('print 2nd num is:'))\n",
    "for num in range(a,b):\n",
    "    print(num)"
   ]
  },
  {
   "cell_type": "code",
   "execution_count": 19,
   "id": "b8bf14ab-cb2c-4ab8-b3b3-89a4491331f2",
   "metadata": {},
   "outputs": [
    {
     "name": "stdin",
     "output_type": "stream",
     "text": [
      "Enter the first number:  1\n",
      "Enter the second number:  9\n",
      "Enter \"even\" or \"odd\":  odd\n"
     ]
    },
    {
     "name": "stdout",
     "output_type": "stream",
     "text": [
      "1\n",
      "3\n",
      "5\n",
      "7\n"
     ]
    }
   ],
   "source": [
    "a = int(input('Enter the first number: '))\n",
    "b = int(input('Enter the second number: '))\n",
    "choice = input('Enter \"even\" or \"odd\": ').strip().lower()\n",
    "\n",
    "for num in range(a, b):\n",
    "    if choice == 'even' and num % 2 == 0:\n",
    "        print(num)\n",
    "    elif choice == 'odd' and num % 2 != 0:\n",
    "        print(num)"
   ]
  },
  {
   "cell_type": "code",
   "execution_count": 8,
   "id": "5d63d48c-c1b0-455b-bd34-8c5ef4e7c349",
   "metadata": {},
   "outputs": [
    {
     "name": "stdout",
     "output_type": "stream",
     "text": [
      "sum: <built-in function sum>\n"
     ]
    },
    {
     "name": "stdin",
     "output_type": "stream",
     "text": [
      "input 1st value 2\n",
      "input 2nd value 6\n",
      "even or odd: odd\n"
     ]
    },
    {
     "name": "stdout",
     "output_type": "stream",
     "text": [
      "3\n",
      "5\n"
     ]
    }
   ],
   "source": [
    "def cal():\n",
    "    a=int(input('input 1st value'))\n",
    "    b=int(input('input 2nd value'))\n",
    "    op=input('even or odd:')\n",
    "    \n",
    "    sum=0\n",
    "    for num in range(a,b):\n",
    "        if op.lower()=='even':\n",
    "            if num%2==0:\n",
    "                sum=sum+num\n",
    "                print(num)\n",
    "        elif op.lower()=='odd':\n",
    "            if num%2 !=0:\n",
    "                sum=sum+num\n",
    "                print(num)\n",
    "print('sum:',sum)\n",
    "cal()"
   ]
  },
  {
   "cell_type": "code",
   "execution_count": null,
   "id": "378e69f9-0a62-4d76-b690-0f1281a5312c",
   "metadata": {},
   "outputs": [],
   "source": []
  },
  {
   "cell_type": "code",
   "execution_count": null,
   "id": "33b4a972-ecf0-49fe-9ddf-aff5ce4434ba",
   "metadata": {},
   "outputs": [],
   "source": []
  }
 ],
 "metadata": {
  "kernelspec": {
   "display_name": "Python 3 (ipykernel)",
   "language": "python",
   "name": "python3"
  },
  "language_info": {
   "codemirror_mode": {
    "name": "ipython",
    "version": 3
   },
   "file_extension": ".py",
   "mimetype": "text/x-python",
   "name": "python",
   "nbconvert_exporter": "python",
   "pygments_lexer": "ipython3",
   "version": "3.12.7"
  }
 },
 "nbformat": 4,
 "nbformat_minor": 5
}
